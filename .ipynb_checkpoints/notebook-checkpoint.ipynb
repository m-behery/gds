{
 "cells": [
  {
   "cell_type": "code",
   "execution_count": 5,
   "id": "2d45ab4d-f2f9-443d-a0a1-f604b6d9a8a5",
   "metadata": {},
   "outputs": [],
   "source": [
    "from argparse import Namespace\n",
    "import xml.etree.ElementTree as ET\n",
    "import os\n",
    "from json import dumps\n",
    "import xmltodict"
   ]
  },
  {
   "cell_type": "code",
   "execution_count": 6,
   "id": "9b5c3567-1618-4551-8c1e-f3baae153866",
   "metadata": {},
   "outputs": [],
   "source": [
    "def xml_to_json(xml_filepath):\n",
    "    xml_filepath = os.path.expandvars(xml_filepath)\n",
    "    with open(xml_filepath) as f:\n",
    "        s = f.read()\n",
    "    return xmltodict.parse(s)\n",
    "\n",
    "lyt, lyp = map(xml_to_json,\n",
    "               ['$PDK_ROOT/$PDK/libs.tech/klayout/tech/$PDK.lyt',\n",
    "                '$PDK_ROOT/$PDK/libs.tech/klayout/tech/$PDK.lyp'])"
   ]
  },
  {
   "cell_type": "code",
   "execution_count": 7,
   "id": "a91e6156-b7e7-4ee2-be44-bc637d61f59b",
   "metadata": {},
   "outputs": [
    {
     "name": "stdout",
     "output_type": "stream",
     "text": [
      "2025-09-28 04:08:32,284 INFO sqlalchemy.engine.Engine BEGIN (implicit)\n",
      "2025-09-28 04:08:32,285 INFO sqlalchemy.engine.Engine PRAGMA main.table_info(\"technologies\")\n",
      "2025-09-28 04:08:32,285 INFO sqlalchemy.engine.Engine [raw sql] ()\n",
      "2025-09-28 04:08:32,286 INFO sqlalchemy.engine.Engine PRAGMA temp.table_info(\"technologies\")\n",
      "2025-09-28 04:08:32,286 INFO sqlalchemy.engine.Engine [raw sql] ()\n",
      "2025-09-28 04:08:32,287 INFO sqlalchemy.engine.Engine PRAGMA main.table_info(\"writer_options\")\n",
      "2025-09-28 04:08:32,287 INFO sqlalchemy.engine.Engine [raw sql] ()\n",
      "2025-09-28 04:08:32,287 INFO sqlalchemy.engine.Engine PRAGMA temp.table_info(\"writer_options\")\n",
      "2025-09-28 04:08:32,287 INFO sqlalchemy.engine.Engine [raw sql] ()\n",
      "2025-09-28 04:08:32,288 INFO sqlalchemy.engine.Engine PRAGMA main.table_info(\"connections\")\n",
      "2025-09-28 04:08:32,288 INFO sqlalchemy.engine.Engine [raw sql] ()\n",
      "2025-09-28 04:08:32,289 INFO sqlalchemy.engine.Engine PRAGMA temp.table_info(\"connections\")\n",
      "2025-09-28 04:08:32,289 INFO sqlalchemy.engine.Engine [raw sql] ()\n",
      "2025-09-28 04:08:32,290 INFO sqlalchemy.engine.Engine PRAGMA main.table_info(\"symbol_physical_layer_pairs\")\n",
      "2025-09-28 04:08:32,290 INFO sqlalchemy.engine.Engine [raw sql] ()\n",
      "2025-09-28 04:08:32,290 INFO sqlalchemy.engine.Engine PRAGMA temp.table_info(\"symbol_physical_layer_pairs\")\n",
      "2025-09-28 04:08:32,290 INFO sqlalchemy.engine.Engine [raw sql] ()\n",
      "2025-09-28 04:08:32,291 INFO sqlalchemy.engine.Engine PRAGMA main.table_info(\"symbols\")\n",
      "2025-09-28 04:08:32,291 INFO sqlalchemy.engine.Engine [raw sql] ()\n",
      "2025-09-28 04:08:32,291 INFO sqlalchemy.engine.Engine PRAGMA temp.table_info(\"symbols\")\n",
      "2025-09-28 04:08:32,291 INFO sqlalchemy.engine.Engine [raw sql] ()\n",
      "2025-09-28 04:08:32,292 INFO sqlalchemy.engine.Engine PRAGMA main.table_info(\"physical_layers\")\n",
      "2025-09-28 04:08:32,292 INFO sqlalchemy.engine.Engine [raw sql] ()\n",
      "2025-09-28 04:08:32,293 INFO sqlalchemy.engine.Engine PRAGMA temp.table_info(\"physical_layers\")\n",
      "2025-09-28 04:08:32,293 INFO sqlalchemy.engine.Engine [raw sql] ()\n",
      "2025-09-28 04:08:32,293 INFO sqlalchemy.engine.Engine \n",
      "CREATE TABLE technologies (\n",
      "\tid INTEGER NOT NULL, \n",
      "\tname VARCHAR(255) NOT NULL, \n",
      "\tdescription TEXT, \n",
      "\tdbu FLOAT NOT NULL, \n",
      "\tadd_other_layers BOOLEAN NOT NULL, \n",
      "\tPRIMARY KEY (id), \n",
      "\tUNIQUE (name)\n",
      ")\n",
      "\n",
      "\n",
      "2025-09-28 04:08:32,293 INFO sqlalchemy.engine.Engine [no key 0.00024s] ()\n",
      "2025-09-28 04:08:32,309 INFO sqlalchemy.engine.Engine \n",
      "CREATE TABLE physical_layers (\n",
      "\tid INTEGER NOT NULL, \n",
      "\tlayer INTEGER NOT NULL, \n",
      "\tdatatype INTEGER NOT NULL, \n",
      "\tnegative BOOLEAN DEFAULT 0 NOT NULL, \n",
      "\tPRIMARY KEY (id)\n",
      ")\n",
      "\n",
      "\n",
      "2025-09-28 04:08:32,309 INFO sqlalchemy.engine.Engine [no key 0.00032s] ()\n",
      "2025-09-28 04:08:32,312 INFO sqlalchemy.engine.Engine \n",
      "CREATE TABLE writer_options (\n",
      "\tid INTEGER NOT NULL, \n",
      "\tlibname VARCHAR(255) NOT NULL, \n",
      "\tmax_vertex_count INTEGER NOT NULL, \n",
      "\twrite_timestamps BOOLEAN NOT NULL, \n",
      "\ttechnology_id INTEGER, \n",
      "\tPRIMARY KEY (id), \n",
      "\tFOREIGN KEY(technology_id) REFERENCES technologies (id)\n",
      ")\n",
      "\n",
      "\n",
      "2025-09-28 04:08:32,313 INFO sqlalchemy.engine.Engine [no key 0.00028s] ()\n",
      "2025-09-28 04:08:32,316 INFO sqlalchemy.engine.Engine \n",
      "CREATE TABLE symbols (\n",
      "\tid INTEGER NOT NULL, \n",
      "\tname VARCHAR(255) NOT NULL, \n",
      "\ttechnology_id INTEGER, \n",
      "\tPRIMARY KEY (id), \n",
      "\tFOREIGN KEY(technology_id) REFERENCES technologies (id)\n",
      ")\n",
      "\n",
      "\n",
      "2025-09-28 04:08:32,316 INFO sqlalchemy.engine.Engine [no key 0.00024s] ()\n",
      "2025-09-28 04:08:32,319 INFO sqlalchemy.engine.Engine \n",
      "CREATE TABLE connections (\n",
      "\tid INTEGER NOT NULL, \n",
      "\ta_symbol_id INTEGER, \n",
      "\tvia_symbol_id INTEGER, \n",
      "\tb_symbol_id INTEGER, \n",
      "\ttechnology_id INTEGER, \n",
      "\tPRIMARY KEY (id), \n",
      "\tFOREIGN KEY(a_symbol_id) REFERENCES symbols (id), \n",
      "\tFOREIGN KEY(via_symbol_id) REFERENCES symbols (id), \n",
      "\tFOREIGN KEY(b_symbol_id) REFERENCES symbols (id), \n",
      "\tFOREIGN KEY(technology_id) REFERENCES technologies (id)\n",
      ")\n",
      "\n",
      "\n",
      "2025-09-28 04:08:32,319 INFO sqlalchemy.engine.Engine [no key 0.00025s] ()\n",
      "2025-09-28 04:08:32,322 INFO sqlalchemy.engine.Engine \n",
      "CREATE TABLE symbol_physical_layer_pairs (\n",
      "\tsymbol_id INTEGER NOT NULL, \n",
      "\tphysical_layer_id INTEGER NOT NULL, \n",
      "\tPRIMARY KEY (symbol_id, physical_layer_id), \n",
      "\tFOREIGN KEY(symbol_id) REFERENCES symbols (id), \n",
      "\tFOREIGN KEY(physical_layer_id) REFERENCES physical_layers (id)\n",
      ")\n",
      "\n",
      "\n",
      "2025-09-28 04:08:32,322 INFO sqlalchemy.engine.Engine [no key 0.00040s] ()\n",
      "2025-09-28 04:08:32,325 INFO sqlalchemy.engine.Engine COMMIT\n"
     ]
    }
   ],
   "source": [
    "from sqlalchemy import create_engine, Table, Column, ForeignKey, Integer, Boolean, Float, String, Text\n",
    "from sqlalchemy.orm import declarative_base, relationship\n",
    "from sqlalchemy.sql.expression import text\n",
    "\n",
    "Base = declarative_base()\n",
    "\n",
    "class Technology(Base):\n",
    "    __tablename__     = 'technologies'\n",
    "    id                = Column(Integer, primary_key=True)\n",
    "    \n",
    "    name              = Column(String(255), nullable=False, unique=True)\n",
    "    description       = Column(Text, nullable=True)\n",
    "    dbu               = Column(Float, nullable=False)\n",
    "    add_other_layers  = Column(Boolean, nullable=False)\n",
    "    \n",
    "    writer_options    = relationship('WriterOptions', uselist=False, back_populates='technology')\n",
    "    connections       = relationship('Connection', back_populates='technology')\n",
    "    symbols           = relationship('Symbol', back_populates='technology')\n",
    "    \n",
    "\n",
    "class WriterOptions(Base):\n",
    "    __tablename__    = 'writer_options'\n",
    "    id               = Column(Integer, primary_key=True)\n",
    "    \n",
    "    libname          = Column(String(255), nullable=False)\n",
    "    max_vertex_count = Column(Integer, nullable=False)\n",
    "    write_timestamps = Column(Boolean, nullable=False)\n",
    "    \n",
    "    technology_id    = Column(Integer, ForeignKey('technologies.id'))\n",
    "    technology       = relationship('Technology', back_populates='writer_options')\n",
    "\n",
    "class Connection(Base):\n",
    "    __tablename__ = 'connections'\n",
    "    id            = Column(Integer, primary_key=True)\n",
    "    \n",
    "    a_symbol_id   = Column(Integer, ForeignKey('symbols.id'))\n",
    "    a_symbol      = relationship('Symbol', foreign_keys=[a_symbol_id], back_populates='as_a_symbol_connections')\n",
    "    \n",
    "    via_symbol_id = Column(Integer, ForeignKey('symbols.id'))\n",
    "    via_symbol    = relationship('Symbol', foreign_keys=[via_symbol_id], back_populates='as_via_symbol_connections')\n",
    "    \n",
    "    b_symbol_id   = Column(Integer, ForeignKey('symbols.id'))\n",
    "    b_symbol      = relationship('Symbol', foreign_keys=[b_symbol_id], back_populates='as_b_symbol_connections')\n",
    "    \n",
    "    technology_id = Column(Integer, ForeignKey('technologies.id'))\n",
    "    technology    = relationship('Technology', back_populates='connections')\n",
    "\n",
    "SymbolPhysicalLayerPairs = Table(\n",
    "    'symbol_physical_layer_pairs', \n",
    "    Base.metadata,\n",
    "    Column('symbol_id', Integer, ForeignKey('symbols.id'), primary_key=True),\n",
    "    Column('physical_layer_id', Integer, ForeignKey('physical_layers.id'), primary_key=True),\n",
    ")\n",
    "\n",
    "class Symbol(Base):\n",
    "    __tablename__             = 'symbols'\n",
    "    id                        = Column(Integer, primary_key=True)\n",
    "    \n",
    "    name                      = Column(String(255), nullable=False)\n",
    "    \n",
    "    technology_id             = Column(Integer, ForeignKey('technologies.id'))\n",
    "    technology                = relationship('Technology', back_populates='symbols')\n",
    "    \n",
    "    as_a_symbol_connections   = relationship('Connection', foreign_keys=[Connection.a_symbol_id], back_populates='a_symbol')\n",
    "    as_via_symbol_connections = relationship('Connection', foreign_keys=[Connection.via_symbol_id], back_populates='via_symbol')\n",
    "    as_b_symbol_connections   = relationship('Connection', foreign_keys=[Connection.b_symbol_id], back_populates='b_symbol')\n",
    "\n",
    "    physical_layers           = relationship('PhysicalLayer', secondary=SymbolPhysicalLayerPairs, back_populates='symbols')\n",
    "    \n",
    "class PhysicalLayer(Base):\n",
    "    __tablename__ = 'physical_layers'\n",
    "    id            = Column(Integer, primary_key=True)\n",
    "\n",
    "    layer         = Column(Integer, nullable=False)\n",
    "    datatype      = Column(Integer, nullable=False)\n",
    "    negative      = Column(Boolean, server_default=text('0'), nullable=False)\n",
    "    \n",
    "    symbols       = relationship('Symbol', secondary=SymbolPhysicalLayerPairs, back_populates='physical_layers')\n",
    "\n",
    "engine = create_engine('sqlite:///pdk.db', echo=True)\n",
    "Base.metadata.create_all(engine)"
   ]
  },
  {
   "cell_type": "code",
   "execution_count": 15,
   "id": "be97cbc4-1774-40c7-b3b1-cf4aea79f913",
   "metadata": {},
   "outputs": [
    {
     "data": {
      "text/plain": [
       "['name',\n",
       " 'description',\n",
       " 'group',\n",
       " 'dbu',\n",
       " 'base-path',\n",
       " 'original-base-path',\n",
       " 'layer-properties_file',\n",
       " 'add-other-layers',\n",
       " 'default-grids',\n",
       " 'reader-options',\n",
       " 'writer-options',\n",
       " 'connectivity']"
      ]
     },
     "execution_count": 15,
     "metadata": {},
     "output_type": "execute_result"
    }
   ],
   "source": [
    "keys = list(lyt['technology'].keys())\n",
    "keys"
   ]
  },
  {
   "cell_type": "code",
   "execution_count": 21,
   "id": "aacaa991-2dc0-4ef1-9252-122e372af2cb",
   "metadata": {},
   "outputs": [
    {
     "data": {
      "text/plain": [
       "{'connection': ['poly,licon,li',\n",
       "  'li,mcon,met1',\n",
       "  'met1,via1,met2',\n",
       "  'met2,via2,met3',\n",
       "  'met3,via3,met4',\n",
       "  'met4,via4,met5'],\n",
       " 'symbols': [\"capm='89/44'\",\n",
       "  \"cap2m='97/44'\",\n",
       "  \"poly='66/20+66/5-66/13-66/14-66/15'\",\n",
       "  \"licon='66/44'\",\n",
       "  \"li='67/20+67/5-67/13-67/14-67/15'\",\n",
       "  \"mcon='67/44'\",\n",
       "  \"met1='68/20+68/5-68/14-68/15'\",\n",
       "  \"via1='68/44'\",\n",
       "  \"met2='69/20+69/5-69/14-69/15'\",\n",
       "  \"via2='69/44'\",\n",
       "  \"met3='70/20+70/5-70/14-70/15'\",\n",
       "  \"via3='70/44-capm'\",\n",
       "  \"met4='71/20+71/5-71/14-71/15'\",\n",
       "  \"via4='71/44-cap2m'\",\n",
       "  \"met5='72/20+72/5-72/14-72/15'\"]}"
      ]
     },
     "execution_count": 21,
     "metadata": {},
     "output_type": "execute_result"
    }
   ],
   "source": [
    "lyt['technology']['connectivity']"
   ]
  },
  {
   "cell_type": "code",
   "execution_count": 17,
   "id": "039f86dc-8b95-4fd9-b509-dc6729622a94",
   "metadata": {},
   "outputs": [
    {
     "name": "stdout",
     "output_type": "stream",
     "text": [
      "reader-options\n",
      "writer-options\n",
      "connectivity\n"
     ]
    }
   ],
   "source": [
    "from collections.abc import Iterable\n",
    "for key in keys:\n",
    "    if isinstance(lyt['technology'][key], Iterable) and not isinstance(lyt['technology'][key], str):\n",
    "        print(key)"
   ]
  },
  {
   "cell_type": "code",
   "execution_count": 20,
   "id": "8950c608-4f5a-42bc-bdf1-ee842b1bada7",
   "metadata": {},
   "outputs": [
    {
     "data": {
      "text/plain": [
       "{'gds2': {'write-timestamps': 'true',\n",
       "  'write-cell-properties': 'false',\n",
       "  'write-file-properties': 'false',\n",
       "  'no-zero-length-paths': 'false',\n",
       "  'multi-xy-records': 'false',\n",
       "  'max-vertex-count': '8000',\n",
       "  'max-cellname-length': '32000',\n",
       "  'libname': 'LIB'},\n",
       " 'oasis': {'compression-level': '2',\n",
       "  'write-cblocks': 'false',\n",
       "  'strict-mode': 'false',\n",
       "  'write-std-properties': '1',\n",
       "  'subst-char': '*',\n",
       "  'permissive': 'false'},\n",
       " 'cif': [{'polygon-mode': '0'},\n",
       "  {'dummy-calls': 'false', 'blank-separator': 'false'}],\n",
       " 'mag': {'lambda': '0', 'tech': None, 'write-timestamp': 'true'}}"
      ]
     },
     "execution_count": 20,
     "metadata": {},
     "output_type": "execute_result"
    }
   ],
   "source": [
    "lyt['technology']['writer-options']"
   ]
  },
  {
   "cell_type": "code",
   "execution_count": 38,
   "id": "99920682-f95a-44cc-ab26-7580ed45d04e",
   "metadata": {},
   "outputs": [
    {
     "data": {
      "text/plain": [
       "dict_keys(['properties', 'name', 'custom-dither-pattern', 'custom-line-style'])"
      ]
     },
     "execution_count": 38,
     "metadata": {},
     "output_type": "execute_result"
    }
   ],
   "source": [
    "lyp['layer-properties'].keys()"
   ]
  },
  {
   "cell_type": "code",
   "execution_count": 46,
   "id": "323bf2f1-4fa8-4e88-b38a-2880b4ffa5ec",
   "metadata": {},
   "outputs": [
    {
     "data": {
      "text/plain": [
       "429"
      ]
     },
     "execution_count": 46,
     "metadata": {},
     "output_type": "execute_result"
    }
   ],
   "source": [
    "len(lyp['layer-properties']['properties'])"
   ]
  },
  {
   "cell_type": "code",
   "execution_count": 55,
   "id": "1f04ad0b-f006-4691-8ff8-90b3efa83bf0",
   "metadata": {},
   "outputs": [
    {
     "data": {
      "text/plain": [
       "{'frame-color': '#ffbff2',\n",
       " 'fill-color': '#ffbff2',\n",
       " 'frame-brightness': '0',\n",
       " 'fill-brightness': '0',\n",
       " 'dither-pattern': 'C1',\n",
       " 'line-style': 'C0',\n",
       " 'valid': 'true',\n",
       " 'visible': 'true',\n",
       " 'transparent': 'false',\n",
       " 'width': '1',\n",
       " 'marked': 'false',\n",
       " 'xfill': 'false',\n",
       " 'animation': '0',\n",
       " 'name': 'pwell.cut - 64/14',\n",
       " 'source': '64/14@1'}"
      ]
     },
     "execution_count": 55,
     "metadata": {},
     "output_type": "execute_result"
    }
   ],
   "source": [
    "lyp['layer-properties']['properties'][5]"
   ]
  },
  {
   "cell_type": "code",
   "execution_count": 43,
   "id": "7d86226d-9f5e-4992-871d-14f9924c4fea",
   "metadata": {
    "collapsed": true,
    "jupyter": {
     "outputs_hidden": true
    }
   },
   "outputs": [
    {
     "ename": "TypeError",
     "evalue": "object of type 'NoneType' has no len()",
     "output_type": "error",
     "traceback": [
      "\u001b[31m---------------------------------------------------------------------------\u001b[39m",
      "\u001b[31mTypeError\u001b[39m                                 Traceback (most recent call last)",
      "\u001b[36mCell\u001b[39m\u001b[36m \u001b[39m\u001b[32mIn[43]\u001b[39m\u001b[32m, line 1\u001b[39m\n\u001b[32m----> \u001b[39m\u001b[32m1\u001b[39m \u001b[38;5;28;43mlen\u001b[39;49m\u001b[43m(\u001b[49m\u001b[43mlyp\u001b[49m\u001b[43m[\u001b[49m\u001b[33;43m'\u001b[39;49m\u001b[33;43mlayer-properties\u001b[39;49m\u001b[33;43m'\u001b[39;49m\u001b[43m]\u001b[49m\u001b[43m[\u001b[49m\u001b[33;43m'\u001b[39;49m\u001b[33;43mname\u001b[39;49m\u001b[33;43m'\u001b[39;49m\u001b[43m]\u001b[49m\u001b[43m)\u001b[49m\n",
      "\u001b[31mTypeError\u001b[39m: object of type 'NoneType' has no len()"
     ]
    }
   ],
   "source": [
    "len(lyp['layer-properties']['name'])"
   ]
  },
  {
   "cell_type": "code",
   "execution_count": 42,
   "id": "2ec67d8b-44bf-4d94-b1ad-ca64bae38cc4",
   "metadata": {},
   "outputs": [
    {
     "data": {
      "text/plain": [
       "55"
      ]
     },
     "execution_count": 42,
     "metadata": {},
     "output_type": "execute_result"
    }
   ],
   "source": [
    "len(lyp['layer-properties']['custom-dither-pattern'])"
   ]
  },
  {
   "cell_type": "code",
   "execution_count": 54,
   "id": "96c28f8c-3342-46d4-8844-8cab6eac6df8",
   "metadata": {},
   "outputs": [
    {
     "data": {
      "text/plain": [
       "{'pattern': {'line': ['*.........*.....',\n",
       "   '.....*..........',\n",
       "   '..*.........*...',\n",
       "   '.......*........',\n",
       "   '....*.........*.',\n",
       "   '.*.......*......',\n",
       "   '......*.........',\n",
       "   '...*.......*....',\n",
       "   '........*.......',\n",
       "   '.....*.......*..',\n",
       "   '*.........*.....',\n",
       "   '.......*........',\n",
       "   '..*.........*...',\n",
       "   '.........*......',\n",
       "   '....*.........*.',\n",
       "   '...........*....']},\n",
       " 'order': '51',\n",
       " 'name': 'curve'}"
      ]
     },
     "execution_count": 54,
     "metadata": {},
     "output_type": "execute_result"
    }
   ],
   "source": [
    "lyp['layer-properties']['custom-dither-pattern'][50]"
   ]
  },
  {
   "cell_type": "code",
   "execution_count": 47,
   "id": "435cd930-67ca-471b-b163-482466cc9b19",
   "metadata": {},
   "outputs": [
    {
     "data": {
      "text/plain": [
       "8"
      ]
     },
     "execution_count": 47,
     "metadata": {},
     "output_type": "execute_result"
    }
   ],
   "source": [
    "len(lyp['layer-properties']['custom-line-style'])"
   ]
  },
  {
   "cell_type": "code",
   "execution_count": 51,
   "id": "99dfe2cd-1b84-4c07-9b7d-d19038b66ec9",
   "metadata": {},
   "outputs": [
    {
     "data": {
      "text/plain": [
       "{'pattern': '***', 'order': '1', 'name': 'solid'}"
      ]
     },
     "execution_count": 51,
     "metadata": {},
     "output_type": "execute_result"
    }
   ],
   "source": [
    "lyp['layer-properties']['custom-line-style'][0]"
   ]
  }
 ],
 "metadata": {
  "kernelspec": {
   "display_name": "Python 3 (ipykernel)",
   "language": "python",
   "name": "python3"
  },
  "language_info": {
   "codemirror_mode": {
    "name": "ipython",
    "version": 3
   },
   "file_extension": ".py",
   "mimetype": "text/x-python",
   "name": "python",
   "nbconvert_exporter": "python",
   "pygments_lexer": "ipython3",
   "version": "3.13.7"
  }
 },
 "nbformat": 4,
 "nbformat_minor": 5
}
